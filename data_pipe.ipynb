{
 "cells": [
  {
   "cell_type": "code",
   "execution_count": 1,
   "metadata": {},
   "outputs": [],
   "source": [
    "import pandas as pd\n",
    "import yfinance as yf"
   ]
  },
  {
   "cell_type": "code",
   "execution_count": 11,
   "metadata": {},
   "outputs": [],
   "source": [
    "# Stocks in portfolio\n",
    "tickers = ['AXP', 'AMGN', 'AAPL', 'BA', 'CAT', 'CSCO', 'CVX', 'GS', 'HD', \n",
    "     'HON', 'IBM', 'INTC', 'JNJ', 'KO', 'JPM', 'MCD', 'MMM', 'MRK', \n",
    "     'MSFT', 'NKE', 'PG', 'TRV', 'UNH', 'CRM', 'VZ', 'V', 'WBA', 'WMT', 'DIS', 'NVDA']"
   ]
  },
  {
   "cell_type": "code",
   "execution_count": 12,
   "metadata": {},
   "outputs": [],
   "source": [
    "def load_data(start:str, end:str):\n",
    "    # Download data(states)\n",
    "    start_date = pd.Timestamp(start)\n",
    "    end_date = pd.Timestamp(end)\n",
    "    data = yf.download(tickers, start=start_date, end=end_date)\\\n",
    "    \n",
    "    return data"
   ]
  },
  {
   "cell_type": "code",
   "execution_count": 22,
   "metadata": {},
   "outputs": [
    {
     "name": "stdout",
     "output_type": "stream",
     "text": [
      "[*********************100%%**********************]  30 of 30 completed\n"
     ]
    }
   ],
   "source": [
    "start_date = pd.Timestamp('2012-01-01')\n",
    "end_date = pd.Timestamp('2018-01-01')\n",
    "train = yf.download(tickers, start=start_date, end=end_date)\n",
    "# train[\"Close\"].isnull().sum().sum()"
   ]
  },
  {
   "cell_type": "code",
   "execution_count": 23,
   "metadata": {},
   "outputs": [
    {
     "name": "stdout",
     "output_type": "stream",
     "text": [
      "[*********************100%%**********************]  30 of 30 completed\n"
     ]
    }
   ],
   "source": [
    "# start_date = pd.Timestamp('2021-01-01')\n",
    "# end_date = pd.Timestamp('2022-01-10')\n",
    "# val = yf.download(tickers, start=start_date, end=end_date)"
   ]
  },
  {
   "cell_type": "code",
   "execution_count": 24,
   "metadata": {},
   "outputs": [
    {
     "name": "stdout",
     "output_type": "stream",
     "text": [
      "[*********************100%%**********************]  30 of 30 completed\n"
     ]
    }
   ],
   "source": [
    "start_date = pd.Timestamp('2018-01-01')\n",
    "end_date = pd.Timestamp('2019-01-01')\n",
    "test = yf.download(tickers, start=start_date, end=end_date)"
   ]
  },
  {
   "cell_type": "code",
   "execution_count": 25,
   "metadata": {},
   "outputs": [],
   "source": [
    "train[\"Close\"].to_csv(\"./dataset/train.csv\", index=True)\n",
    "val[\"Close\"].to_csv(\"./dataset/val.csv\", index=True)\n",
    "test[\"Close\"].to_csv(\"./dataset/test.csv\", index=True)"
   ]
  }
 ],
 "metadata": {
  "kernelspec": {
   "display_name": "base",
   "language": "python",
   "name": "python3"
  },
  "language_info": {
   "codemirror_mode": {
    "name": "ipython",
    "version": 3
   },
   "file_extension": ".py",
   "mimetype": "text/x-python",
   "name": "python",
   "nbconvert_exporter": "python",
   "pygments_lexer": "ipython3",
   "version": "3.9.18"
  }
 },
 "nbformat": 4,
 "nbformat_minor": 2
}
