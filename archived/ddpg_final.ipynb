{
 "cells": [
  {
   "cell_type": "code",
   "execution_count": 19,
   "metadata": {},
   "outputs": [
    {
     "name": "stderr",
     "output_type": "stream",
     "text": [
      "/Users/tiantian/Library/CloudStorage/GoogleDrive-tc3216@columbia.edu/My Drive/project/environment.py:212: RuntimeWarning: overflow encountered in exp\n",
      "  numerator = np.exp(actions)\n",
      "/Users/tiantian/Library/CloudStorage/GoogleDrive-tc3216@columbia.edu/My Drive/project/environment.py:213: RuntimeWarning: overflow encountered in exp\n",
      "  denominator = np.sum(np.exp(actions))\n",
      "/Users/tiantian/Library/CloudStorage/GoogleDrive-tc3216@columbia.edu/My Drive/project/environment.py:214: RuntimeWarning: invalid value encountered in divide\n",
      "  output = numerator/denominator\n"
     ]
    }
   ],
   "source": [
    "import os\n",
    "import pandas as pd\n",
    "import numpy as np\n",
    "import torch\n",
    "import torch.nn.functional as F\n",
    "from stable_baselines3 import DDPG\n",
    "from stable_baselines3.common.env_util import make_vec_env\n",
    "\n",
    "from environment import tradeEnv\n",
    "\n",
    "# Load data\n",
    "df_train = pd.read_csv(\"./dataset/yahoo_finance_train.csv\")\n",
    "df_test = pd.read_csv(\"./dataset/yahoo_finance_test.csv\")\n",
    "\n",
    "def set_seeds(seed):\n",
    "    torch.manual_seed(seed)\n",
    "    np.random.seed(seed)\n",
    "    if torch.cuda.is_available():\n",
    "        torch.cuda.manual_seed_all(seed)\n",
    "\n",
    "\n",
    "def train_test(hyperparameters: dict, algo=DDPG):\n",
    "    # Set up training environment\n",
    "    set_seeds(6885)\n",
    "    train_env = tradeEnv(df=df_train)\n",
    "    train_env = make_vec_env(lambda: train_env, n_envs=1)\n",
    "\n",
    "    # Train PPO model\n",
    "    model = algo(\"MlpPolicy\", train_env, verbose=0, **hyperparameters)\n",
    "    model.learn(total_timesteps=10000)\n",
    "    model.save(\"ppo_stock_trading\")\n",
    "\n",
    "    #=================================================#\n",
    "    # Set up testing environment\n",
    "    test_env = tradeEnv(df=df_test)\n",
    "    test_env = make_vec_env(lambda: test_env, n_envs=1)\n",
    "\n",
    "    # Test PPO model\n",
    "    model = algo.load(\"ppo_stock_trading\", env=test_env)\n",
    "    obs = test_env.reset()\n",
    "    returns = df_test.pct_change()\n",
    "\n",
    "    # Calculate returns\n",
    "    portfolio_weights = []\n",
    "    for _ in range(len(df_test)):\n",
    "        action, _states = model.predict(obs, deterministic=True)\n",
    "        action_normalized = F.softmax(torch.tensor(action), dim=-1).numpy()\n",
    "        #assert (np.sum(action_normalized[0]) == 1)\n",
    "        portfolio_weights.append(action_normalized[0])\n",
    "        obs, _, _, _ = test_env.step(action)\n",
    "\n",
    "    portfolio_weights_ppo = np.array(portfolio_weights)\n",
    "    return_stocks_ppo = np.sum(returns.multiply(portfolio_weights_ppo), axis=1)\n",
    "\n",
    "    return hyperparameters, return_stocks_ppo"
   ]
  },
  {
   "cell_type": "code",
   "execution_count": 7,
   "metadata": {},
   "outputs": [],
   "source": [
    "ddpg_hyperparameters_sets = [\n",
    "    {'learning_rate': 0.001, 'batch_size': 64, 'gamma': 0.99, 'buffer_size': 1000000, 'tau': 0.005},\n",
    "    {'learning_rate': 0.0005, 'batch_size': 128, 'gamma': 0.98, 'buffer_size': 500000, 'tau': 0.01},\n",
    "    {'learning_rate': 0.0001, 'batch_size': 256, 'gamma': 0.97, 'buffer_size': 100000, 'tau': 0.02},\n",
    "    {'learning_rate': 0.002, 'batch_size': 32, 'gamma': 0.96, 'buffer_size': 500000, 'tau': 0.005},\n",
    "    {'learning_rate': 0.00025, 'batch_size': 64, 'gamma': 0.95, 'buffer_size': 1000000, 'tau': 0.01},\n",
    "    {'learning_rate': 0.00075, 'batch_size': 128, 'gamma': 0.94, 'buffer_size': 500000, 'tau': 0.005},\n",
    "    {'learning_rate': 0.0002, 'batch_size': 256, 'gamma': 0.93, 'buffer_size': 100000, 'tau': 0.02},\n",
    "    {'learning_rate': 0.0015, 'batch_size': 32, 'gamma': 0.92, 'buffer_size': 500000, 'tau': 0.01},\n",
    "    {'learning_rate': 0.0003, 'batch_size': 64, 'gamma': 0.91, 'buffer_size': 1000000, 'tau': 0.015},\n",
    "    {'learning_rate': 0.0008, 'batch_size': 128, 'gamma': 0.90, 'buffer_size': 500000, 'tau': 0.01}\n",
    "]\n",
    "\n",
    "# Each dictionary in this list represents a different set of hyperparameters for DDPG.\n"
   ]
  },
  {
   "cell_type": "code",
   "execution_count": 21,
   "metadata": {},
   "outputs": [
    {
     "name": "stderr",
     "output_type": "stream",
     "text": [
      "/Users/tiantian/Library/CloudStorage/GoogleDrive-tc3216@columbia.edu/My Drive/project/environment.py:212: RuntimeWarning: overflow encountered in exp\n",
      "  numerator = np.exp(actions)\n",
      "/Users/tiantian/Library/CloudStorage/GoogleDrive-tc3216@columbia.edu/My Drive/project/environment.py:213: RuntimeWarning: overflow encountered in exp\n",
      "  denominator = np.sum(np.exp(actions))\n",
      "/Users/tiantian/Library/CloudStorage/GoogleDrive-tc3216@columbia.edu/My Drive/project/environment.py:214: RuntimeWarning: invalid value encountered in divide\n",
      "  output = numerator/denominator\n",
      "/Users/tiantian/Library/CloudStorage/GoogleDrive-tc3216@columbia.edu/My Drive/project/environment.py:212: RuntimeWarning: overflow encountered in exp\n",
      "  numerator = np.exp(actions)\n",
      "/Users/tiantian/Library/CloudStorage/GoogleDrive-tc3216@columbia.edu/My Drive/project/environment.py:213: RuntimeWarning: overflow encountered in exp\n",
      "  denominator = np.sum(np.exp(actions))\n",
      "/Users/tiantian/Library/CloudStorage/GoogleDrive-tc3216@columbia.edu/My Drive/project/environment.py:214: RuntimeWarning: invalid value encountered in divide\n",
      "  output = numerator/denominator\n",
      "/Users/tiantian/Library/CloudStorage/GoogleDrive-tc3216@columbia.edu/My Drive/project/environment.py:212: RuntimeWarning: overflow encountered in exp\n",
      "  numerator = np.exp(actions)\n",
      "/Users/tiantian/Library/CloudStorage/GoogleDrive-tc3216@columbia.edu/My Drive/project/environment.py:213: RuntimeWarning: overflow encountered in exp\n",
      "  denominator = np.sum(np.exp(actions))\n",
      "/Users/tiantian/Library/CloudStorage/GoogleDrive-tc3216@columbia.edu/My Drive/project/environment.py:214: RuntimeWarning: invalid value encountered in divide\n",
      "  output = numerator/denominator\n",
      "/Users/tiantian/Library/CloudStorage/GoogleDrive-tc3216@columbia.edu/My Drive/project/environment.py:212: RuntimeWarning: overflow encountered in exp\n",
      "  numerator = np.exp(actions)\n",
      "/Users/tiantian/Library/CloudStorage/GoogleDrive-tc3216@columbia.edu/My Drive/project/environment.py:213: RuntimeWarning: overflow encountered in exp\n",
      "  denominator = np.sum(np.exp(actions))\n",
      "/Users/tiantian/Library/CloudStorage/GoogleDrive-tc3216@columbia.edu/My Drive/project/environment.py:214: RuntimeWarning: invalid value encountered in divide\n",
      "  output = numerator/denominator\n",
      "/Users/tiantian/Library/CloudStorage/GoogleDrive-tc3216@columbia.edu/My Drive/project/environment.py:212: RuntimeWarning: overflow encountered in exp\n",
      "  numerator = np.exp(actions)\n",
      "/Users/tiantian/Library/CloudStorage/GoogleDrive-tc3216@columbia.edu/My Drive/project/environment.py:213: RuntimeWarning: overflow encountered in exp\n",
      "  denominator = np.sum(np.exp(actions))\n",
      "/Users/tiantian/Library/CloudStorage/GoogleDrive-tc3216@columbia.edu/My Drive/project/environment.py:214: RuntimeWarning: invalid value encountered in divide\n",
      "  output = numerator/denominator\n",
      "/Users/tiantian/Library/CloudStorage/GoogleDrive-tc3216@columbia.edu/My Drive/project/environment.py:212: RuntimeWarning: overflow encountered in exp\n",
      "  numerator = np.exp(actions)\n",
      "/Users/tiantian/Library/CloudStorage/GoogleDrive-tc3216@columbia.edu/My Drive/project/environment.py:213: RuntimeWarning: overflow encountered in exp\n",
      "  denominator = np.sum(np.exp(actions))\n",
      "/Users/tiantian/Library/CloudStorage/GoogleDrive-tc3216@columbia.edu/My Drive/project/environment.py:214: RuntimeWarning: invalid value encountered in divide\n",
      "  output = numerator/denominator\n",
      "/Users/tiantian/Library/CloudStorage/GoogleDrive-tc3216@columbia.edu/My Drive/project/environment.py:212: RuntimeWarning: overflow encountered in exp\n",
      "  numerator = np.exp(actions)\n",
      "/Users/tiantian/Library/CloudStorage/GoogleDrive-tc3216@columbia.edu/My Drive/project/environment.py:213: RuntimeWarning: overflow encountered in exp\n",
      "  denominator = np.sum(np.exp(actions))\n",
      "/Users/tiantian/Library/CloudStorage/GoogleDrive-tc3216@columbia.edu/My Drive/project/environment.py:214: RuntimeWarning: invalid value encountered in divide\n",
      "  output = numerator/denominator\n",
      "/Users/tiantian/Library/CloudStorage/GoogleDrive-tc3216@columbia.edu/My Drive/project/environment.py:212: RuntimeWarning: overflow encountered in exp\n",
      "  numerator = np.exp(actions)\n",
      "/Users/tiantian/Library/CloudStorage/GoogleDrive-tc3216@columbia.edu/My Drive/project/environment.py:213: RuntimeWarning: overflow encountered in exp\n",
      "  denominator = np.sum(np.exp(actions))\n",
      "/Users/tiantian/Library/CloudStorage/GoogleDrive-tc3216@columbia.edu/My Drive/project/environment.py:214: RuntimeWarning: invalid value encountered in divide\n",
      "  output = numerator/denominator\n",
      "/Users/tiantian/Library/CloudStorage/GoogleDrive-tc3216@columbia.edu/My Drive/project/environment.py:212: RuntimeWarning: overflow encountered in exp\n",
      "  numerator = np.exp(actions)\n",
      "/Users/tiantian/Library/CloudStorage/GoogleDrive-tc3216@columbia.edu/My Drive/project/environment.py:213: RuntimeWarning: overflow encountered in exp\n",
      "  denominator = np.sum(np.exp(actions))\n",
      "/Users/tiantian/Library/CloudStorage/GoogleDrive-tc3216@columbia.edu/My Drive/project/environment.py:214: RuntimeWarning: invalid value encountered in divide\n",
      "  output = numerator/denominator\n",
      "/Users/tiantian/Library/CloudStorage/GoogleDrive-tc3216@columbia.edu/My Drive/project/environment.py:212: RuntimeWarning: overflow encountered in exp\n",
      "  numerator = np.exp(actions)\n",
      "/Users/tiantian/Library/CloudStorage/GoogleDrive-tc3216@columbia.edu/My Drive/project/environment.py:213: RuntimeWarning: overflow encountered in exp\n",
      "  denominator = np.sum(np.exp(actions))\n",
      "/Users/tiantian/Library/CloudStorage/GoogleDrive-tc3216@columbia.edu/My Drive/project/environment.py:214: RuntimeWarning: invalid value encountered in divide\n",
      "  output = numerator/denominator\n"
     ]
    }
   ],
   "source": [
    "results = {} # wide dataframe\n",
    "for _, params in enumerate(ddpg_hyperparameters_sets):\n",
    "    p, ret = train_test(params)\n",
    "    results[str(p)] = ret"
   ]
  },
  {
   "cell_type": "code",
   "execution_count": 22,
   "metadata": {},
   "outputs": [],
   "source": [
    "pd.DataFrame(results).to_csv(\"./results/ddpg_returns.csv\")"
   ]
  },
  {
   "cell_type": "code",
   "execution_count": 24,
   "metadata": {},
   "outputs": [],
   "source": [
    "df = pd.DataFrame(results)"
   ]
  },
  {
   "cell_type": "code",
   "execution_count": null,
   "metadata": {},
   "outputs": [],
   "source": []
  }
 ],
 "metadata": {
  "kernelspec": {
   "display_name": "base",
   "language": "python",
   "name": "python3"
  },
  "language_info": {
   "codemirror_mode": {
    "name": "ipython",
    "version": 3
   },
   "file_extension": ".py",
   "mimetype": "text/x-python",
   "name": "python",
   "nbconvert_exporter": "python",
   "pygments_lexer": "ipython3",
   "version": "3.9.18"
  }
 },
 "nbformat": 4,
 "nbformat_minor": 2
}
